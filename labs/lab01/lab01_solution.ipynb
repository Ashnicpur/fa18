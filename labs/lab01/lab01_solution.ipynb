{
 "cells": [
  {
   "cell_type": "markdown",
   "metadata": {
    "nbgrader": {
     "grade": false,
     "grade_id": "intro",
     "locked": true,
     "schema_version": 2,
     "solution": false
    }
   },
   "source": [
    "# Lab 1\n",
    "\n",
    "Welcome to the first lab of Data 100! This lab is meant to help you familiarize yourself with JupyterHub and introduce you to `matplotlib`, a python visualization library. Here is the documentation: https://matplotlib.org/api/pyplot_api.html\n",
    "\n",
    "## Course Policies\n",
    "\n",
    "**Collaboration Policy**\n",
    "\n",
    "Data science is a collaborative activity. While you may talk with others about the labs, we ask that you **write your solutions individually**. If you do discuss the assignments with others please **include their names** at the top of this notebook.\n",
    "\n",
    "**This assignment should be completed and submitted before Monday August 27, 2018 at 11:59 PM.**\n"
   ]
  },
  {
   "cell_type": "markdown",
   "metadata": {
    "nbgrader": {
     "grade": false,
     "grade_id": "running-a-cell",
     "locked": true,
     "schema_version": 2,
     "solution": false
    }
   },
   "source": [
    "### Running a Cell \n",
    "\n",
    "Try running the following cell.  If you are unfamiliar with Jupyter Notebooks, consider skimming [this tutorial](http://nbviewer.jupyter.org/github/jupyter/notebook/blob/master/docs/source/examples/Notebook/Notebook%20Basics.ipynb) or selecting **Help -> User Interface Tour** in the menu above. "
   ]
  },
  {
   "cell_type": "code",
   "execution_count": null,
   "metadata": {
    "nbgrader": {
     "grade": false,
     "grade_id": "hello-world",
     "locked": true,
     "schema_version": 2,
     "solution": false
    }
   },
   "outputs": [],
   "source": [
    "print(\"Hello World!\")"
   ]
  },
  {
   "cell_type": "markdown",
   "metadata": {
    "nbgrader": {
     "grade": false,
     "grade_id": "shortcuts",
     "locked": true,
     "schema_version": 2,
     "solution": false
    }
   },
   "source": [
    "Even if you are familiar with Jupyter, we strongly encourage you to become proficient with keyboard shortcuts (this will save you time in the future). To learn about keyboard shortcuts, go to **Help -> Keyboard Shortcuts** in the menu above. \n",
    "\n",
    "Here are a few we like:\n",
    "1. `ctrl`+`return` : *Evaluate the current cell*\n",
    "1. `shift`+`return`: *Evaluate the current cell and move to the next*\n",
    "1. `esc` : *command mode* (may need to press before using any of the commands below)\n",
    "1. `a` : *create a cell above*\n",
    "1. `b` : *create a cell below*\n",
    "1. `dd` : *delete a cell*\n",
    "1. `m` : *convert a cell to markdown*\n",
    "1. `y` : *convert a cell to code*"
   ]
  },
  {
   "cell_type": "code",
   "execution_count": null,
   "metadata": {
    "ExecuteTime": {
     "end_time": "2018-01-18T23:21:43.841930Z",
     "start_time": "2018-01-18T23:21:43.193583Z"
    },
    "nbgrader": {
     "grade": false,
     "grade_id": "imports",
     "locked": true,
     "schema_version": 2,
     "solution": false
    }
   },
   "outputs": [],
   "source": [
    "import numpy as np\n",
    "import matplotlib.pyplot as plt\n",
    "%matplotlib inline"
   ]
  },
  {
   "cell_type": "markdown",
   "metadata": {
    "nbgrader": {
     "grade": false,
     "grade_id": "imports-explanation",
     "locked": true,
     "schema_version": 2,
     "solution": false
    }
   },
   "source": [
    "You might be wondering what `%matplotlib inline` does? `%matplotlib inline` is a magic command in Python that visualizes and stores any plots you draw or any plots we provide directly in the notebook."
   ]
  },
  {
   "cell_type": "markdown",
   "metadata": {
    "nbgrader": {
     "grade": false,
     "grade_id": "part-a",
     "locked": true,
     "schema_version": 2,
     "solution": false
    }
   },
   "source": [
    "---\n",
    "## Part A\n",
    "We're going to start by going through the official `pyplot` tutorial. Please go through the [tutorial](pyplot.ipynb) and familiarize yourself with the basics of `pyplot`. This should take roughly 25 minutes."
   ]
  },
  {
   "cell_type": "markdown",
   "metadata": {
    "nbgrader": {
     "grade": false,
     "grade_id": "note",
     "locked": true,
     "schema_version": 2,
     "solution": false
    }
   },
   "source": [
    "### A note on `np.arange` and `np.linspace`\n",
    "\n",
    "Note that the tutorial uses `np.arange`. While this is fine in some cases, we generally prefer to use `np.linspace`. `np.linspace(a, b, N)` divides the interval `[a, b]` into N points, while `np.arange(a, b, s)` will step from `a` to `b` with a fixed step size `s`.\n",
    "\n",
    "One thing to keep in mind is that `np.linspace` always includes both end points while `np.arange` will *not* include the second end point `b`. For this reason, when we are plotting ranges of values we tend to prefer `np.linspace`.\n",
    "\n",
    "The following two functions return the same result, but notice how their parameters differ."
   ]
  },
  {
   "cell_type": "code",
   "execution_count": null,
   "metadata": {},
   "outputs": [],
   "source": [
    "np.arange(-5, 6, 1.0)"
   ]
  },
  {
   "cell_type": "code",
   "execution_count": null,
   "metadata": {},
   "outputs": [],
   "source": [
    "np.linspace(-5, 5, 11)"
   ]
  },
  {
   "cell_type": "markdown",
   "metadata": {
    "nbgrader": {
     "grade": false,
     "grade_id": "documentation-shortcuts",
     "locked": true,
     "schema_version": 2,
     "solution": false
    }
   },
   "source": [
    "### Another tip\n",
    "\n",
    "If you are ever confused about how a function works or behaves, click to the right of the function name, or inside the parentheses following the function. Then type `Shift` + `Tab`, and a window with the function's signature and docstring will appear. Holding down `Shift` and pressing `Tab` multiple times will bring up more and more detailed levels of documentation. Try this out in the cells above on `np.arange` and `np.linspace`!\n"
   ]
  },
  {
   "cell_type": "markdown",
   "metadata": {
    "nbgrader": {
     "grade": false,
     "grade_id": "part-b",
     "locked": true,
     "schema_version": 2,
     "solution": false
    }
   },
   "source": [
    "---\n",
    "## Part B\n",
    "Now that you're familiar with the basics of `pyplot`, let's practice with some `pyplot` questions."
   ]
  },
  {
   "cell_type": "markdown",
   "metadata": {
    "nbgrader": {
     "grade": false,
     "grade_id": "q1a",
     "locked": true,
     "schema_version": 2,
     "solution": false
    }
   },
   "source": [
    "### Question 1a\n",
    "Let's visualize the function $f(t) = 3\\sin(2\\pi t)$. Set the x limit of all figures to $[0, \\pi]$ and the y limit to $[-10, 10]$. Plot the sine function using `plt.plot` with 30 red plus signs. Additionally, make sure the x ticks are labeled $[0, \\frac{\\pi}{2}, \\pi]$, and that your axes are labeled as well.\n",
    "\n",
    "Your plot should look like the following:\n",
    "\n",
    "![1a.png](1a.png)\n",
    "\n",
    "Hint 1: You can set axis bounds with `plt.axis`.\n",
    "\n",
    "Hint 2: You can set xticks and labels with `plt.xticks`.\n",
    "\n",
    "Hint 3: Make sure you add `plt.xlabel`, `plt.ylabel`, `plt.title`"
   ]
  },
  {
   "cell_type": "code",
   "execution_count": null,
   "metadata": {
    "nbgrader": {
     "grade": true,
     "grade_id": "q1a-answer",
     "locked": false,
     "points": 1,
     "schema_version": 2,
     "solution": true
    }
   },
   "outputs": [],
   "source": [
    "### BEGIN SOLUTION\n",
    "def f(t):\n",
    "    return 3 * np.sin(2 * np.pi * t)\n",
    "\n",
    "t = np.linspace(0, np.pi, 30)\n",
    "plt.plot(t, f(t), 'r+')\n",
    "plt.axis([0, np.pi, -10, 10])\n",
    "plt.ylabel(\"f(t)\")\n",
    "plt.xlabel(\"t\")\n",
    "plt.xticks([0, np.pi/2, np.pi], [r'$0$', r'$\\pi/2$', r'$\\pi$'])\n",
    "plt.title(\"$f(t) = 3\\sin(2\\pi t)$\");\n",
    "### END SOLUTION"
   ]
  },
  {
   "cell_type": "markdown",
   "metadata": {
    "nbgrader": {
     "grade": false,
     "grade_id": "q1b",
     "locked": true,
     "schema_version": 2,
     "solution": false
    }
   },
   "source": [
    "### Question 1b\n",
    "Suppose we want to visualize the function $g(t) = a \\cdot \\sin(2 \\pi f t)$ while varying the values $f, a$. Generate a 2 by 2 plot that plots the function $g(t)$ as a line plot with values $f = 2, 8$ and $a = 2, 8$. Since there are 2 values of $f$ and 2 values of $a$ there are a total of 4 combinations, hence a 2 by 2 plot. The rows should vary in $a$ and the columns should vary in $f$.\n",
    "\n",
    "Set the x limit of all figures to $[0, \\pi]$ and the y limit to $[-10, 10]$. The figure size should be 8 by 8. Make sure to label your x and y axes with the appropriate value of $f$ or $a$. Additionally, make sure the x ticks are labeled $[0, \\frac{\\pi}{2}, \\pi]$. Your overall plot should look something like this:\n",
    "\n",
    "![2by2](1b.png)\n",
    "\n",
    "Hint 1: Modularize your code and use loops.\n",
    "\n",
    "Hint 2: Are your plots too close together such that the labels are overlapping with other plots? Look at the [`plt.subplots_adjust`](https://matplotlib.org/api/_as_gen/matplotlib.pyplot.subplots_adjust.html) function.\n",
    "\n",
    "Hint 3: Having trouble setting the x-axis ticks and ticklabels? Look at the [`plt.xticks`](https://matplotlib.org/api/_as_gen/matplotlib.pyplot.xticks.html) function.\n",
    "\n",
    "Hint 4: You can add title to overall plot with `plt.suptitle`."
   ]
  },
  {
   "cell_type": "code",
   "execution_count": null,
   "metadata": {
    "nbgrader": {
     "grade": true,
     "grade_id": "q1b-answer",
     "locked": false,
     "points": 1,
     "schema_version": 2,
     "solution": true
    }
   },
   "outputs": [],
   "source": [
    "### BEGIN SOLUTION\n",
    "def g(t):\n",
    "    return a * np.sin(2 * np.pi * f * t)\n",
    "\n",
    "f_values = [2, 8]\n",
    "a_values = [2, 8]\n",
    "t = np.linspace(0, np.pi, 1000)\n",
    "\n",
    "plt.figure(figsize=(8, 8))\n",
    "plt.subplots_adjust(wspace=0.5, hspace=0.5)\n",
    "plt.suptitle(\"Sine waves with varying a=[2,8], f=[2,8]\")\n",
    "subplot_index = 1\n",
    "for f in f_values:\n",
    "    for a in a_values:\n",
    "        plt.subplot(2, 2, subplot_index)\n",
    "        plt.axis([0, np.pi, -10, 10])\n",
    "        plt.plot(t, g(t))\n",
    "        plt.ylabel(\"f: {}\".format(f))\n",
    "        plt.xlabel(\"a: {}\".format(a))\n",
    "        plt.xticks([0, np.pi/2, np.pi], [r'$0$', r'$\\pi/2$', r'$\\pi$'])\n",
    "        subplot_index += 1\n",
    "### END SOLUTION"
   ]
  },
  {
   "cell_type": "markdown",
   "metadata": {
    "nbgrader": {
     "grade": false,
     "grade_id": "q2",
     "locked": true,
     "schema_version": 2,
     "solution": false
    }
   },
   "source": [
    "### Question 2\n",
    "We should also familiarize ourselves with looking up documentation and learning how to read it. Below is a section of code that plots a basic wireframe. Replace each `Your answer here` with a description of what the line above does, what the arguments being passed in are, and how the arguments are used in the function. For example,\n",
    "\n",
    "`np.arange(2, 5, 0.2)`\n",
    "\n",
    "`# This returns an array of numbers from 2 to 5 with an interval size of 0.2`\n",
    "\n",
    "Hint: The `Shift` + `Tab` tip from earlier in the notebook may help here."
   ]
  },
  {
   "cell_type": "code",
   "execution_count": null,
   "metadata": {
    "nbgrader": {
     "grade": true,
     "grade_id": "q2-answer",
     "locked": false,
     "points": 1,
     "schema_version": 2,
     "solution": true
    }
   },
   "outputs": [],
   "source": [
    "from mpl_toolkits.mplot3d import axes3d\n",
    "\n",
    "u = np.linspace(1.5*np.pi, -1.5*np.pi, 100)\n",
    "# Your answer here\n",
    "[x,y] = np.meshgrid(u, u)\n",
    "# Your answer here\n",
    "squared = np.sqrt(x.flatten()**2 + y.flatten()**2)\n",
    "z = np.cos(squared)\n",
    "# Your answer here\n",
    "z = z.reshape(x.shape)\n",
    "# Your answer here\n",
    "\n",
    "fig = plt.figure()\n",
    "ax = fig.add_subplot(111, projection='3d')\n",
    "# Your answer here\n",
    "ax.plot_wireframe(x, y, z, rstride=10, cstride=10)\n",
    "# Your answer here\n",
    "ax.view_init(elev=50., azim=30)\n",
    "# Your answer here\n",
    "plt.savefig(\"figure1.png\")\n",
    "### BEGIN SOLUTION\n",
    "### END SOLUTION"
   ]
  },
  {
   "cell_type": "markdown",
   "metadata": {
    "nbgrader": {
     "grade": false,
     "grade_id": "q3",
     "locked": true,
     "schema_version": 2,
     "solution": false
    }
   },
   "source": [
    "### Question 3\n",
    "Do you think that eating french fries with mayonnaise is a crime?  \n",
    "Tell us what you think in the following Markdown cell. :)"
   ]
  },
  {
   "cell_type": "markdown",
   "metadata": {
    "nbgrader": {
     "grade": true,
     "grade_id": "q3-answer",
     "locked": false,
     "points": 0,
     "schema_version": 2,
     "solution": true
    }
   },
   "source": []
  }
 ],
 "metadata": {
  "celltoolbar": "Create Assignment",
  "kernelspec": {
   "display_name": "Python 3",
   "language": "python",
   "name": "python3"
  },
  "language_info": {
   "codemirror_mode": {
    "name": "ipython",
    "version": 3
   },
   "file_extension": ".py",
   "mimetype": "text/x-python",
   "name": "python",
   "nbconvert_exporter": "python",
   "pygments_lexer": "ipython3",
   "version": "3.6.4"
  },
  "toc": {
   "colors": {
    "hover_highlight": "#DAA520",
    "running_highlight": "#FF0000",
    "selected_highlight": "#FFD700"
   },
   "moveMenuLeft": true,
   "nav_menu": {
    "height": "156px",
    "width": "252px"
   },
   "navigate_menu": true,
   "number_sections": true,
   "sideBar": true,
   "threshold": 4,
   "toc_cell": true,
   "toc_section_display": "block",
   "toc_window_display": true
  }
 },
 "nbformat": 4,
 "nbformat_minor": 2
}
